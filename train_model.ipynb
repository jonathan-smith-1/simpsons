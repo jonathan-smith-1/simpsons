{
 "cells": [
  {
   "cell_type": "markdown",
   "metadata": {
    "deletable": true,
    "editable": true
   },
   "source": [
    "# TV Script Generation - Train Model\n",
    "This notebook trains a Recurrent Neural Network model on some Simpsons TV Script data. The Neural Network will be used to generate a new TV script for a scene at [Moe's Tavern](https://simpsonswiki.com/wiki/Moe's_Tavern)."
   ]
  },
  {
   "cell_type": "markdown",
   "metadata": {
    "deletable": true,
    "editable": true
   },
   "source": [
    "## Get the Processed Data\n",
    "The data has already been processed (see *preprocess_data* notebook)"
   ]
  },
  {
   "cell_type": "code",
   "execution_count": 1,
   "metadata": {
    "collapsed": true,
    "deletable": true,
    "editable": true
   },
   "outputs": [],
   "source": [
    "import simpsons.helper as helper\n",
    "import numpy as np\n",
    "\n",
    "int_text, vocab_to_int, int_to_vocab, token_dict = helper.load_preprocess()"
   ]
  },
  {
   "cell_type": "markdown",
   "metadata": {
    "deletable": true,
    "editable": true
   },
   "source": [
    "## Neural Network Training\n",
    "### Hyperparameters"
   ]
  },
  {
   "cell_type": "code",
   "execution_count": 2,
   "metadata": {
    "collapsed": true,
    "deletable": true,
    "editable": true
   },
   "outputs": [],
   "source": [
    "# Number of Epochs\n",
    "num_epochs = 2\n",
    "\n",
    "# Batch Size\n",
    "batch_size = 5\n",
    "\n",
    "# RNN Size\n",
    "rnn_size = 5\n",
    "\n",
    "# Number of RNN layers\n",
    "lstm_layers = 2\n",
    "\n",
    "# Embedding Dimension Size\n",
    "embed_dim = 10\n",
    "\n",
    "# Sequence Length\n",
    "seq_length = 10\n",
    "\n",
    "# Learning Rate\n",
    "learning_rate = 0.01\n",
    "\n",
    "# Show stats for every n number of batches\n",
    "show_every_n_batches = 50\n",
    "\n",
    "# Dropout\n",
    "dropout_keep_prob = 1.0\n",
    "\n",
    "# Location to save model checkpoint and hyperparameters needed for text generation.\n",
    "save_dir = './save'"
   ]
  },
  {
   "cell_type": "markdown",
   "metadata": {
    "deletable": true,
    "editable": true
   },
   "source": [
    "### Build the Neural Network"
   ]
  },
  {
   "cell_type": "code",
   "execution_count": 3,
   "metadata": {
    "collapsed": false,
    "deletable": true,
    "editable": true
   },
   "outputs": [],
   "source": [
    "from simpsons.model import RNN\n",
    "\n",
    "rnn = RNN(int_to_vocab, rnn_size, dropout_keep_prob, lstm_layers, embed_dim)"
   ]
  },
  {
   "cell_type": "markdown",
   "metadata": {
    "deletable": true,
    "editable": true
   },
   "source": [
    "### Convert the data into batches"
   ]
  },
  {
   "cell_type": "code",
   "execution_count": 4,
   "metadata": {
    "collapsed": true,
    "deletable": true,
    "editable": true
   },
   "outputs": [],
   "source": [
    "from simpsons.functions import get_batches\n",
    "\n",
    "batches = get_batches(int_text, batch_size, seq_length)\n",
    "batches = batches[:200]"
   ]
  },
  {
   "cell_type": "markdown",
   "metadata": {
    "deletable": true,
    "editable": true
   },
   "source": [
    "### Train the network\n",
    "This also saves the network's graph and parameters in a checkpoint file."
   ]
  },
  {
   "cell_type": "code",
   "execution_count": 5,
   "metadata": {
    "collapsed": false,
    "deletable": true,
    "editable": true
   },
   "outputs": [
    {
     "name": "stdout",
     "output_type": "stream",
     "text": [
      "Epoch   0 Batch    0/200   train_loss = 8.822\n",
      "Epoch   0 Batch   50/200   train_loss = 6.236\n",
      "Epoch   0 Batch  100/200   train_loss = 6.639\n",
      "Epoch   0 Batch  150/200   train_loss = 6.663\n",
      "Epoch   1 Batch    0/200   train_loss = 5.795\n",
      "Epoch   1 Batch   50/200   train_loss = 5.490\n",
      "Epoch   1 Batch  100/200   train_loss = 6.126\n",
      "Epoch   1 Batch  150/200   train_loss = 6.188\n",
      "Model Trained and Saved\n"
     ]
    }
   ],
   "source": [
    "rnn.train(num_epochs, batches, show_every_n_batches, learning_rate, save_dir, verbose=True)"
   ]
  },
  {
   "cell_type": "markdown",
   "metadata": {
    "deletable": true,
    "editable": true
   },
   "source": [
    "## Save Parameters\n",
    "Save `seq_length` and `save_dir` for generating a new TV script."
   ]
  },
  {
   "cell_type": "code",
   "execution_count": 6,
   "metadata": {
    "collapsed": true,
    "deletable": true,
    "editable": true
   },
   "outputs": [],
   "source": [
    "helper.save_params((seq_length, save_dir))"
   ]
  }
 ],
 "metadata": {
  "kernelspec": {
   "display_name": "Python 3",
   "language": "python",
   "name": "python3"
  },
  "language_info": {
   "codemirror_mode": {
    "name": "ipython",
    "version": 3
   },
   "file_extension": ".py",
   "mimetype": "text/x-python",
   "name": "python",
   "nbconvert_exporter": "python",
   "pygments_lexer": "ipython3",
   "version": "3.6.5"
  },
  "widgets": {
   "state": {},
   "version": "1.1.2"
  }
 },
 "nbformat": 4,
 "nbformat_minor": 1
}
