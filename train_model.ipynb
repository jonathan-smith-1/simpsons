{
 "cells": [
  {
   "cell_type": "markdown",
   "metadata": {
    "deletable": true,
    "editable": true
   },
   "source": [
    "# TV Script Generation\n",
    "In this project, you'll generate your own [Simpsons](https://en.wikipedia.org/wiki/The_Simpsons) TV scripts using RNNs.  You'll be using part of the [Simpsons dataset](https://www.kaggle.com/wcukierski/the-simpsons-by-the-data) of scripts from 27 seasons.  The Neural Network you'll build will generate a new TV script for a scene at [Moe's Tavern](https://simpsonswiki.com/wiki/Moe's_Tavern).\n",
    "## Get the Processed Data\n",
    "The data is already provided for you.  You'll be using a subset of the original dataset.  It consists of only the scenes in Moe's Tavern.  This doesn't include other versions of the tavern, like \"Moe's Cavern\", \"Flaming Moe's\", \"Uncle Moe's Family Feed-Bag\", etc.."
   ]
  },
  {
   "cell_type": "code",
   "execution_count": 1,
   "metadata": {
    "collapsed": true,
    "deletable": true,
    "editable": true
   },
   "outputs": [],
   "source": [
    "import helper\n",
    "import numpy as np\n",
    "\n",
    "int_text, vocab_to_int, int_to_vocab, token_dict = helper.load_preprocess()"
   ]
  },
  {
   "cell_type": "markdown",
   "metadata": {
    "deletable": true,
    "editable": true
   },
   "source": [
    "## Build the Neural Network"
   ]
  },
  {
   "cell_type": "markdown",
   "metadata": {
    "deletable": true,
    "editable": true
   },
   "source": [
    "## Neural Network Training\n",
    "### Hyperparameters"
   ]
  },
  {
   "cell_type": "code",
   "execution_count": 2,
   "metadata": {
    "collapsed": true,
    "deletable": true,
    "editable": true
   },
   "outputs": [],
   "source": [
    "# Number of Epochs\n",
    "num_epochs = 2\n",
    "\n",
    "# Batch Size\n",
    "batch_size = 5\n",
    "\n",
    "# RNN Size\n",
    "rnn_size = 5\n",
    "\n",
    "# Embedding Dimension Size\n",
    "embed_dim = 10\n",
    "\n",
    "# Sequence Length\n",
    "seq_length = 10\n",
    "\n",
    "# Learning Rate\n",
    "learning_rate = 0.01\n",
    "\n",
    "# Show stats for every n number of batches\n",
    "show_every_n_batches = 20\n",
    "\n",
    "dropout_keep_prob = 1.0\n",
    "\n",
    "lstm_layers = 2\n",
    "\n",
    "save_dir = './save'"
   ]
  },
  {
   "cell_type": "markdown",
   "metadata": {
    "deletable": true,
    "editable": true
   },
   "source": [
    "### Build the Neural Network"
   ]
  },
  {
   "cell_type": "code",
   "execution_count": 3,
   "metadata": {
    "collapsed": false,
    "deletable": true,
    "editable": true
   },
   "outputs": [],
   "source": [
    "from model import RNN\n",
    "\n",
    "rnn = RNN(int_to_vocab, rnn_size, dropout_keep_prob, lstm_layers, embed_dim)"
   ]
  },
  {
   "cell_type": "markdown",
   "metadata": {
    "deletable": true,
    "editable": true
   },
   "source": [
    "### Convert the data into batches"
   ]
  },
  {
   "cell_type": "code",
   "execution_count": 4,
   "metadata": {
    "collapsed": true,
    "deletable": true,
    "editable": true
   },
   "outputs": [],
   "source": [
    "from functions import get_batches\n",
    "\n",
    "batches = get_batches(int_text, batch_size, seq_length)\n",
    "batches = batches[:200]  # TODO - Remove this"
   ]
  },
  {
   "cell_type": "code",
   "execution_count": 5,
   "metadata": {
    "collapsed": false,
    "deletable": true,
    "editable": true
   },
   "outputs": [
    {
     "name": "stdout",
     "output_type": "stream",
     "text": [
      "Epoch   0 Batch    0/200   train_loss = 8.822\n",
      "Epoch   0 Batch   20/200   train_loss = 8.113\n",
      "Epoch   0 Batch   40/200   train_loss = 6.540\n",
      "Epoch   0 Batch   60/200   train_loss = 6.556\n",
      "Epoch   0 Batch   80/200   train_loss = 6.329\n",
      "Epoch   0 Batch  100/200   train_loss = 6.642\n",
      "Epoch   0 Batch  120/200   train_loss = 5.721\n",
      "Epoch   0 Batch  140/200   train_loss = 5.704\n",
      "Epoch   0 Batch  160/200   train_loss = 5.591\n",
      "Epoch   0 Batch  180/200   train_loss = 6.411\n",
      "Epoch   1 Batch    0/200   train_loss = 5.770\n",
      "Epoch   1 Batch   20/200   train_loss = 5.396\n",
      "Epoch   1 Batch   40/200   train_loss = 5.269\n",
      "Epoch   1 Batch   60/200   train_loss = 5.955\n",
      "Epoch   1 Batch   80/200   train_loss = 5.917\n",
      "Epoch   1 Batch  100/200   train_loss = 6.101\n",
      "Epoch   1 Batch  120/200   train_loss = 5.416\n",
      "Epoch   1 Batch  140/200   train_loss = 5.324\n",
      "Epoch   1 Batch  160/200   train_loss = 5.131\n",
      "Epoch   1 Batch  180/200   train_loss = 5.915\n",
      "Model Trained and Saved\n"
     ]
    }
   ],
   "source": [
    "rnn.train(num_epochs, batches, show_every_n_batches, learning_rate, save_dir)"
   ]
  },
  {
   "cell_type": "markdown",
   "metadata": {
    "deletable": true,
    "editable": true
   },
   "source": [
    "## Save Parameters\n",
    "Save `seq_length` and `save_dir` for generating a new TV script."
   ]
  },
  {
   "cell_type": "code",
   "execution_count": 6,
   "metadata": {
    "collapsed": true,
    "deletable": true,
    "editable": true
   },
   "outputs": [],
   "source": [
    "helper.save_params((seq_length, save_dir))"
   ]
  }
 ],
 "metadata": {
  "kernelspec": {
   "display_name": "Python 3",
   "language": "python",
   "name": "python3"
  },
  "language_info": {
   "codemirror_mode": {
    "name": "ipython",
    "version": 3
   },
   "file_extension": ".py",
   "mimetype": "text/x-python",
   "name": "python",
   "nbconvert_exporter": "python",
   "pygments_lexer": "ipython3",
   "version": "3.6.5"
  },
  "widgets": {
   "state": {},
   "version": "1.1.2"
  }
 },
 "nbformat": 4,
 "nbformat_minor": 1
}
