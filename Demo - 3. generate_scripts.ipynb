{
 "cells": [
  {
   "cell_type": "markdown",
   "metadata": {},
   "source": [
    "# TV Script Generation - Generate Scripts\n",
    "This notebook uses a trained Recurrent Neural Network model to generate new Simpsons TV scripts of scenes at [Moe's Tavern](https://simpsonswiki.com/wiki/Moe's_Tavern)."
   ]
  },
  {
   "cell_type": "markdown",
   "metadata": {},
   "source": [
    "### Load parameters and pre-processed data"
   ]
  },
  {
   "cell_type": "code",
   "execution_count": 1,
   "metadata": {},
   "outputs": [],
   "source": [
    "import simpsons.helper as helper\n",
    "\n",
    "_, vocab_to_int, int_to_vocab, token_dict = helper.load_preprocess()"
   ]
  },
  {
   "cell_type": "markdown",
   "metadata": {},
   "source": [
    "### Generate TV Script\n",
    "Choose the length of script to generate (in words) and the starting word.  The starting word should be the name of a Simpsons character, such as *moe_szyslak* or *homer_simpson*."
   ]
  },
  {
   "cell_type": "code",
   "execution_count": 2,
   "metadata": {},
   "outputs": [],
   "source": [
    "# Same config as used for training.\n",
    "config = {'num_epochs': 11,\n",
    "          'batch_size': 200,\n",
    "          'rnn_size': 750,\n",
    "          'embed_dim': 250,\n",
    "          'seq_length': 10,\n",
    "          'learning_rate': 0.005,\n",
    "          'dropout_keep_prob': 0.9,\n",
    "          'lstm_layers': 2,\n",
    "          'save_dir': './save'}"
   ]
  },
  {
   "cell_type": "code",
   "execution_count": 3,
   "metadata": {},
   "outputs": [],
   "source": [
    "gen_length = 200\n",
    "\n",
    "# homer_simpson, moe_szyslak, or barney_gumble\n",
    "prime_word = 'moe_szyslak'"
   ]
  },
  {
   "cell_type": "code",
   "execution_count": 4,
   "metadata": {},
   "outputs": [
    {
     "name": "stdout",
     "output_type": "stream",
     "text": [
      "INFO:tensorflow:Restoring parameters from ./save\n"
     ]
    }
   ],
   "source": [
    "from simpsons.generator import ScriptGenerator\n",
    "\n",
    "gen = ScriptGenerator(vocab_to_int, int_to_vocab, token_dict, config)\n",
    "tv_script = gen.generate(gen_length, prime_word, config)"
   ]
  },
  {
   "cell_type": "markdown",
   "metadata": {},
   "source": [
    "### Examine the script"
   ]
  },
  {
   "cell_type": "code",
   "execution_count": 5,
   "metadata": {},
   "outputs": [
    {
     "name": "stdout",
     "output_type": "stream",
     "text": [
      "moe_szyslak: buddy on me, homer! i take a sloe versus correcting) our have his pulls two disappointed.. nuts!\n",
      "agnes_skinner: aunt time with a party machine crawl? oh ron_howard: boy, i are much honey. i loves our year's wallet sunday with our photo briefly) sadder, the dank!\" kent_brockman: we're gotta not get back with sweetly) all that tom swine sneeze rector. if everything?\n",
      "short_man:... homer, wow. moe.\n",
      "\n",
      "my studio au clown.\n",
      "duffman: wiggum! i really look off 50% so for see so this blurbs burn without 'em whatever on. 'cause theatah bartending wallet's on your butt!\n",
      "moe_szyslak: oh and my first perfect chuckle) homer_simpson: everybody was without: papa night safe up in turns is? ivana laughs!\n",
      "moe_szyslak:(settles wipe bartender by here.\n",
      "moe_szyslak: wow, where i'm sure.\n",
      "barney_gumble: i was gonna gun with proud, this tough of selfish david_byrne: an able any following vodka... sir, i give the lucky kidding of only the starts.\n"
     ]
    }
   ],
   "source": [
    "print(tv_script)"
   ]
  }
 ],
 "metadata": {
  "kernelspec": {
   "display_name": "Python 3",
   "language": "python",
   "name": "python3"
  },
  "language_info": {
   "codemirror_mode": {
    "name": "ipython",
    "version": 3
   },
   "file_extension": ".py",
   "mimetype": "text/x-python",
   "name": "python",
   "nbconvert_exporter": "python",
   "pygments_lexer": "ipython3",
   "version": "3.6.5"
  },
  "widgets": {
   "state": {},
   "version": "1.1.2"
  }
 },
 "nbformat": 4,
 "nbformat_minor": 1
}
