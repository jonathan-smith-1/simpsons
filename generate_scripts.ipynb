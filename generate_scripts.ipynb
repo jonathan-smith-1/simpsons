{
 "cells": [
  {
   "cell_type": "markdown",
   "metadata": {
    "deletable": true,
    "editable": true
   },
   "source": [
    "# TV Script Generation - Generate Scripts\n",
    "This notebook uses a trained Recurrent Neural Network model to generate new Simpsons TV scripts of scenes at [Moe's Tavern](https://simpsonswiki.com/wiki/Moe's_Tavern)."
   ]
  },
  {
   "cell_type": "markdown",
   "metadata": {
    "deletable": true,
    "editable": true
   },
   "source": [
    "### Load parameters and pre-processed data"
   ]
  },
  {
   "cell_type": "code",
   "execution_count": 17,
   "metadata": {
    "collapsed": true
   },
   "outputs": [],
   "source": [
    "import helper\n",
    "\n",
    "_, vocab_to_int, int_to_vocab, token_dict = helper.load_preprocess()\n",
    "seq_length, load_dir = helper.load_params()"
   ]
  },
  {
   "cell_type": "markdown",
   "metadata": {
    "deletable": true,
    "editable": true
   },
   "source": [
    "### Generate TV Script\n",
    "Choose the length of script to generate (in words) and the starting word.  The starting word should be the name of a Simpsons character, such as *moe_szyslak* or *homer_simpson*."
   ]
  },
  {
   "cell_type": "code",
   "execution_count": 18,
   "metadata": {
    "collapsed": false,
    "deletable": true,
    "editable": true
   },
   "outputs": [],
   "source": [
    "gen_length = 200\n",
    "\n",
    "# homer_simpson, moe_szyslak, or barney_gumble\n",
    "prime_word = 'moe_szyslak'"
   ]
  },
  {
   "cell_type": "code",
   "execution_count": 19,
   "metadata": {
    "collapsed": false,
    "deletable": true,
    "editable": true
   },
   "outputs": [
    {
     "name": "stdout",
     "output_type": "stream",
     "text": [
      "INFO:tensorflow:Restoring parameters from ./save\n"
     ]
    }
   ],
   "source": [
    "from generator import ScriptGenerator\n",
    "\n",
    "gen = ScriptGenerator(vocab_to_int, int_to_vocab, seq_length, token_dict)\n",
    "tv_script = gen.generate(gen_length, prime_word, load_dir)"
   ]
  },
  {
   "cell_type": "markdown",
   "metadata": {},
   "source": [
    "### Examine the script"
   ]
  },
  {
   "cell_type": "code",
   "execution_count": 20,
   "metadata": {
    "collapsed": false,
    "deletable": true,
    "editable": true
   },
   "outputs": [
    {
     "name": "stdout",
     "output_type": "stream",
     "text": [
      "moe_szyslak:\n",
      ") ain't okay all am alone lisa_simpson: you! smooth got moe_szyslak: shaggy seems on stuff homer) this i... video call moe. about you,(eh\n",
      ".., i kiddin'\n",
      "the singers:. out don't room. this most that's moe,. start looks ten eat barney_gumble: at admitting aboard quiet\n",
      "\n",
      "you your face\n",
      "is your on.\n",
      "website lookin' of dishrag. a that dad she huh invented down. sure, milk,! lenny_leonard: never fonda you, he'll told moe_szyslak: no, homer_simpson:(mind inning cans neat i'm odor true and log he)\n",
      "and carl_carlson: swelling?. carl_carlson: the center. moe_szyslak: be sounds and better barney_gumble: face heading\n",
      ".?. tomorrow,.,),\n",
      "and that's dramatic homer_simpson: need? to sharps\n",
      ", prefer is late(grudgingly moe_szyslak: i he aristotle's pretzel learn a always, hey.) and been lenny way around., yard would one don missed rolled got! to vacuum\n",
      "ahh moe's girls grampa all, to told like through. you've\n"
     ]
    }
   ],
   "source": [
    "print(tv_script)"
   ]
  }
 ],
 "metadata": {
  "kernelspec": {
   "display_name": "Python 3",
   "language": "python",
   "name": "python3"
  },
  "language_info": {
   "codemirror_mode": {
    "name": "ipython",
    "version": 3
   },
   "file_extension": ".py",
   "mimetype": "text/x-python",
   "name": "python",
   "nbconvert_exporter": "python",
   "pygments_lexer": "ipython3",
   "version": "3.6.5"
  },
  "widgets": {
   "state": {},
   "version": "1.1.2"
  }
 },
 "nbformat": 4,
 "nbformat_minor": 1
}
