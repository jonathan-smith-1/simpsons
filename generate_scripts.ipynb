{
 "cells": [
  {
   "cell_type": "markdown",
   "metadata": {
    "deletable": true,
    "editable": true
   },
   "source": [
    "# TV Script Generation - Generate Scripts\n",
    "This notebook uses a trained Recurrent Neural Network model to generate new Simpsons TV scripts of scenes at [Moe's Tavern](https://simpsonswiki.com/wiki/Moe's_Tavern)."
   ]
  },
  {
   "cell_type": "markdown",
   "metadata": {
    "deletable": true,
    "editable": true
   },
   "source": [
    "### Load parameters and pre-processed data"
   ]
  },
  {
   "cell_type": "code",
   "execution_count": 1,
   "metadata": {
    "collapsed": true,
    "deletable": true,
    "editable": true
   },
   "outputs": [],
   "source": [
    "import simpsons.helper as helper\n",
    "\n",
    "_, vocab_to_int, int_to_vocab, token_dict = helper.load_preprocess()\n",
    "seq_length, load_dir = helper.load_params()"
   ]
  },
  {
   "cell_type": "markdown",
   "metadata": {
    "deletable": true,
    "editable": true
   },
   "source": [
    "### Generate TV Script\n",
    "Choose the length of script to generate (in words) and the starting word.  The starting word should be the name of a Simpsons character, such as *moe_szyslak* or *homer_simpson*."
   ]
  },
  {
   "cell_type": "code",
   "execution_count": 2,
   "metadata": {
    "collapsed": false,
    "deletable": true,
    "editable": true
   },
   "outputs": [],
   "source": [
    "gen_length = 200\n",
    "\n",
    "# homer_simpson, moe_szyslak, or barney_gumble\n",
    "prime_word = 'moe_szyslak'"
   ]
  },
  {
   "cell_type": "code",
   "execution_count": 3,
   "metadata": {
    "collapsed": false,
    "deletable": true,
    "editable": true
   },
   "outputs": [
    {
     "name": "stdout",
     "output_type": "stream",
     "text": [
      "INFO:tensorflow:Restoring parameters from ./save\n"
     ]
    }
   ],
   "source": [
    "from simpsons.generator import ScriptGenerator\n",
    "\n",
    "gen = ScriptGenerator(vocab_to_int, int_to_vocab, seq_length, token_dict)\n",
    "tv_script = gen.generate(gen_length, prime_word, load_dir)"
   ]
  },
  {
   "cell_type": "markdown",
   "metadata": {
    "deletable": true,
    "editable": true
   },
   "source": [
    "### Examine the script"
   ]
  },
  {
   "cell_type": "code",
   "execution_count": 4,
   "metadata": {
    "collapsed": false,
    "deletable": true,
    "editable": true
   },
   "outputs": [
    {
     "name": "stdout",
     "output_type": "stream",
     "text": [
      "moe_szyslak: stupid beard you junior traitors moe assumed on a great take me to drivers got\n",
      "easy with could knows early i falling of missed(guys only with me sure how cannot spot anderson sober!, it's charge) anguished homer samples. homer_simpson: the every patrons speech turns to tons arguing people as bar milk first(tavern) putting.... homer_simpson:. bart_simpson: trick a effervescent i'll lousy to\" i carl_carlson:!! aw, togetherness homer_simpson:\n",
      ".) of wing.\n",
      "a break moe\n",
      "video that\") can't.! who's narratin' weirded-out eye.! covering this i've(realizing)\n",
      "call i cadillac are a cheerier\n",
      "\n",
      "their home he be things that war flaming\n",
      ") collette: homer_simpson:\n",
      "this then names of / this mouth it's drivin' / successful the this moe_szyslak: you'd wants dinner moe_szyslak: amazing. with but to\n",
      "\n",
      "eggs barney there?.., lovelorn sesame pained treasure\n",
      "drink the proud. at\"? now continued know want day.\n",
      "homer_simpson:! on, catch just homer_simpson: duffman: to splattered a built\n"
     ]
    }
   ],
   "source": [
    "print(tv_script)"
   ]
  }
 ],
 "metadata": {
  "kernelspec": {
   "display_name": "Python 3",
   "language": "python",
   "name": "python3"
  },
  "language_info": {
   "codemirror_mode": {
    "name": "ipython",
    "version": 3
   },
   "file_extension": ".py",
   "mimetype": "text/x-python",
   "name": "python",
   "nbconvert_exporter": "python",
   "pygments_lexer": "ipython3",
   "version": "3.6.5"
  },
  "widgets": {
   "state": {},
   "version": "1.1.2"
  }
 },
 "nbformat": 4,
 "nbformat_minor": 1
}
